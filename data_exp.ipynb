{
 "cells": [
  {
   "cell_type": "code",
   "execution_count": null,
   "metadata": {},
   "outputs": [],
   "source": [
    "from data_extraction import DataExtractor\n",
    "from database_utils import DatabaseConnector\n",
    "from data_cleaning import DataCleaning\n",
    "\n",
    "data_2 = DatabaseConnector()\n",
    "data_3 = DataExtractor()\n",
    "users = data_3.read_rds_table(data_2, 'legacy_users')\n",
    "print(users)"
   ]
  }
 ],
 "metadata": {
  "language_info": {
   "name": "python"
  },
  "orig_nbformat": 4
 },
 "nbformat": 4,
 "nbformat_minor": 2
}
